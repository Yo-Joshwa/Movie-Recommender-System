{
 "cells": [
  {
   "cell_type": "code",
   "execution_count": 1,
   "metadata": {},
   "outputs": [],
   "source": [
    "import pandas as pd\n",
    "import numpy as np\n",
    "from sklearn.feature_extraction.text import TfidfVectorizer\n",
    "from sklearn.metrics.pairwise import cosine_similarity\n",
    "from sklearn.neighbors import NearestNeighbors\n",
    "from surprise import Dataset, Reader, SVD\n",
    "from surprise.model_selection import train_test_split\n"
   ]
  },
  {
   "cell_type": "code",
   "execution_count": 90,
   "metadata": {},
   "outputs": [],
   "source": [
    "movies = pd.read_csv(\"tmdb_5000_movies.csv\")\n",
    "credits = pd.read_csv(\"tmdb_5000_credits.csv\")\n",
    "\n",
    "ratings = movies[['id', 'title', 'vote_average', 'vote_count']].copy()\n",
    "ratings = ratings.rename(columns={'id': 'movieId'})  \n",
    "ratings = ratings[ratings['vote_count'] > 50]  \n",
    "ratings['userId'] = np.random.randint(1, 1000, size=len(ratings)) \n",
    "ratings['rating'] = ratings['vote_average'] / 2  \n",
    "\n",
    "movies = movies.merge(credits, on=\"title\")\n",
    "\n",
    "import ast\n",
    "def convert_to_list(obj):\n",
    "    try:\n",
    "        return [i[\"name\"] for i in ast.literal_eval(obj)]\n",
    "    except:\n",
    "        return []\n",
    "\n",
    "movies[\"genres\"] = movies[\"genres\"].apply(convert_to_list)\n",
    "movies[\"keywords\"] = movies[\"keywords\"].apply(convert_to_list)\n",
    "movies[\"cast\"] = movies[\"cast\"].apply(lambda x: convert_to_list(x)[:3])  # Top 3 actors\n",
    "movies[\"crew\"] = movies[\"crew\"].apply(lambda x: [i[\"name\"] for i in ast.literal_eval(x) if i[\"job\"] == \"Director\"])\n",
    "\n",
    "# Convert features into a single text column tags\n",
    "movies[\"tags\"] = movies[\"genres\"] + movies[\"keywords\"] + movies[\"cast\"] + movies[\"crew\"]\n",
    "movies[\"tags\"] = movies[\"tags\"].apply(lambda x: \" \".join(x))\n",
    "# movies['tags'] = movies['tags'].apply(lambda x:x.lower())\n",
    "# movies['title'] = movies['title'].apply(lambda x:x.lower())\n"
   ]
  },
  {
   "cell_type": "code",
   "execution_count": null,
   "metadata": {},
   "outputs": [
    {
     "data": {
      "text/plain": [
       "<surprise.prediction_algorithms.matrix_factorization.SVD at 0x14a7893a0>"
      ]
     },
     "execution_count": 91,
     "metadata": {},
     "output_type": "execute_result"
    }
   ],
   "source": [
    "reader = Reader(rating_scale=(1, 5))\n",
    "data = Dataset.load_from_df(ratings[['userId', 'movieId', 'rating']], reader)\n",
    "\n",
    "# Split into train and test sets\n",
    "trainset, testset = train_test_split(data, test_size=0.2)\n",
    "\n",
    "# Train SVD model\n",
    "svd_model = SVD()\n",
    "svd_model.fit(trainset)\n"
   ]
  },
  {
   "cell_type": "code",
   "execution_count": 102,
   "metadata": {},
   "outputs": [],
   "source": [
    "tfidf = TfidfVectorizer(stop_words=\"english\")\n",
    "tfidf_matrix = tfidf.fit_transform(movies[\"tags\"])\n",
    "\n",
    "cosine_sim = cosine_similarity(tfidf_matrix)\n",
    "\n",
    "knn_model = NearestNeighbors(metric=\"cosine\", algorithm=\"brute\")\n",
    "knn_model.fit(tfidf_matrix)\n",
    "\n",
    "def content_recommend(title, n=5):\n",
    "    idx = movies[movies[\"title\"] == title].index[0]\n",
    "    distances, indices = knn_model.kneighbors(tfidf_matrix[idx], n_neighbors=n+1)\n",
    "    return movies[\"title\"].iloc[indices[0][1:]].tolist()\n"
   ]
  },
  {
   "cell_type": "code",
   "execution_count": 103,
   "metadata": {},
   "outputs": [],
   "source": [
    "def collaborative_recommend(user_id, n=5):\n",
    "    movie_ids = ratings[\"movieId\"].unique()\n",
    "    \n",
    "    user_rated = ratings[ratings[\"userId\"] == user_id][\"movieId\"].values\n",
    "    movie_ids = [m for m in movie_ids if m not in user_rated]\n",
    "\n",
    "    predictions = [svd_model.predict(user_id, m) for m in movie_ids]\n",
    "    \n",
    "    predictions = sorted(predictions, key=lambda x: x.est, reverse=True)[:n]\n",
    "    \n",
    "    recommended_ids = [p.iid for p in predictions]\n",
    "    recommended_movies = movies[movies[\"id\"].isin(recommended_ids)][\"title\"].tolist()\n",
    "    \n",
    "    return recommended_movies\n"
   ]
  },
  {
   "cell_type": "code",
   "execution_count": 106,
   "metadata": {},
   "outputs": [
    {
     "name": "stdout",
     "output_type": "stream",
     "text": [
      "['Avatar', 'Star Trek Into Darkness', 'Alien', 'The Rundown', 'Alien³', 'The Green Mile', 'Planet of the Apes', 'The Fast and the Furious']\n"
     ]
    }
   ],
   "source": [
    "def hybrid_recommend(user_id, title, alpha=0.5, n=5):\n",
    "    content = content_recommend(title, n=5)\n",
    "    collab = collaborative_recommend(user_id, n=5)\n",
    "    # print(content)\n",
    "    # print(collab)\n",
    "    hybrid = list(set(content + collab))\n",
    "    \n",
    "    if title not in hybrid:\n",
    "        hybrid.append(title)  \n",
    "        \n",
    "    movie_s = {movie: (alpha * content.count(movie) + (1 - alpha) * collab.count(movie))\n",
    "                    for movie in hybrid}\n",
    "\n",
    "    sorted_movies = sorted(movie_s, key=movie_s.get, reverse=True)\n",
    "\n",
    "    if title in sorted_movies:\n",
    "        sorted_movies.remove(title)\n",
    "    sorted_movies.insert(0, title)  # Place searched movie at the top\n",
    "\n",
    "    return sorted_movies[:n] \n",
    "\n",
    "print(hybrid_recommend(user_id=1, title=\"Avatar\", alpha=0.5, n=8))\n"
   ]
  }
 ],
 "metadata": {
  "kernelspec": {
   "display_name": "base",
   "language": "python",
   "name": "python3"
  },
  "language_info": {
   "codemirror_mode": {
    "name": "ipython",
    "version": 3
   },
   "file_extension": ".py",
   "mimetype": "text/x-python",
   "name": "python",
   "nbconvert_exporter": "python",
   "pygments_lexer": "ipython3",
   "version": "3.12.2"
  }
 },
 "nbformat": 4,
 "nbformat_minor": 2
}
